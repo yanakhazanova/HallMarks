{
 "cells": [
  {
   "cell_type": "code",
   "execution_count": 10,
   "metadata": {},
   "outputs": [],
   "source": [
    "import cv2\n",
    "import os\n",
    "import pandas as pd\n",
    "import ast\n",
    "from random import randint\n",
    "import shutil"
   ]
  },
  {
   "cell_type": "code",
   "execution_count": 2,
   "metadata": {},
   "outputs": [],
   "source": [
    "# # function for cropping each detection and saving as new image\n",
    "# def crop_objects(img, data, path, allowed_classes):\n",
    "#     boxes, scores, classes, num_objects = data\n",
    "#     class_names = read_class_names(cfg.YOLO.CLASSES)\n",
    "#     #create dictionary to hold count of objects for image name\n",
    "#     counts = dict()\n",
    "#     for i in range(num_objects):\n",
    "#         # get count of class for part of image name\n",
    "#         class_index = int(classes[i])\n",
    "#         class_name = class_names[class_index]\n",
    "#         if class_name in allowed_classes:\n",
    "#             counts[class_name] = counts.get(class_name, 0) + 1\n",
    "#             # get box coords\n",
    "#             xmin, ymin, xmax, ymax = boxes[i]\n",
    "#             # crop detection from image (take an additional 5 pixels around all edges)\n",
    "#             cropped_img = img[int(ymin)-5:int(ymax)+5, int(xmin)-5:int(xmax)+5]\n",
    "#             # construct image name and join it to path for saving crop properly\n",
    "#             img_name = class_name + '_' + str(counts[class_name]) + '.png'\n",
    "#             img_path = os.path.join(path, img_name )\n",
    "#             # save image\n",
    "#             cv2.imwrite(img_path, cropped_img)\n",
    "#         else:\n",
    "#             continue"
   ]
  },
  {
   "cell_type": "code",
   "execution_count": 5,
   "metadata": {},
   "outputs": [],
   "source": [
    "city = 'Sheffield'\n",
    "path = f'CityClassification/New/{city}'\n",
    "files = os.listdir(path)\n",
    "# allowed_classes = [1, 3]\n",
    "for index, file in enumerate(files):\n",
    "    name, ext = '.'.join(file.split('.')[:-1]), file.split('.')[-1]\n",
    "    if ext in ['jpg', 'png', 'jpeg']:\n",
    "        text = name + '.txt'\n",
    "        print(index, name)\n",
    "        img = cv2.imread(path + '/' + file)\n",
    "        with open(f'CityClassification/New/{city}/{text}', 'r') as f:\n",
    "            count = 0\n",
    "            for line in f:\n",
    "                count += 1\n",
    "                cls, x, y, w, h = list(map(float, line.split(' ')))\n",
    "                x, w = int(img.shape[1]*x), int(img.shape[1]*w)\n",
    "                y, h = int(img.shape[0]*y), int(img.shape[0]*h)\n",
    "                if h < 3 or w < 3:\n",
    "#                     print(index, name)\n",
    "                    continue\n",
    "                xmin, ymin, xmax, ymax = x-w/2, y-h/2, x+w/2, y+h/2\n",
    "                cropped_img = img[int(ymin):int(ymax), int(xmin):int(xmax)]\n",
    "#                 cropped_img = img[int(ymin)-5:int(ymax)+5, int(xmin)-5:int(xmax)+5]\n",
    "                cv2.imwrite(f'CityClassification/New/Croped/{cls}_{name}_{count}.jpg', cropped_img)\n",
    "        print(f\"cropped images for {index} are saved\")"
   ]
  },
  {
   "cell_type": "code",
   "execution_count": 14,
   "metadata": {},
   "outputs": [],
   "source": [
    "path = \"CityClassification/New/Croped/Letters\"\n",
    "files = os.listdir(path)\n",
    "for index, file in enumerate(files):\n",
    "    if len(file) > 50:\n",
    "        letter = file.split('.')[1].split('_')[3]\n",
    "        if len(letter) == 1:\n",
    "            folder = letter.upper()\n",
    "            shutil.move(f'{path}/{file}', f'{path}/{folder}/{file}')"
   ]
  },
  {
   "cell_type": "code",
   "execution_count": 13,
   "metadata": {},
   "outputs": [
    {
     "data": {
      "text/plain": [
       "60"
      ]
     },
     "execution_count": 13,
     "metadata": {},
     "output_type": "execute_result"
    }
   ],
   "source": [
    "len('1.0_15286_ne_x_jpg.rf.1077c998c2e375b540ff10621615495a_1.jpg')"
   ]
  },
  {
   "cell_type": "code",
   "execution_count": null,
   "metadata": {},
   "outputs": [],
   "source": []
  }
 ],
 "metadata": {
  "kernelspec": {
   "display_name": "Python 3",
   "language": "python",
   "name": "python3"
  },
  "language_info": {
   "codemirror_mode": {
    "name": "ipython",
    "version": 3
   },
   "file_extension": ".py",
   "mimetype": "text/x-python",
   "name": "python",
   "nbconvert_exporter": "python",
   "pygments_lexer": "ipython3",
   "version": "3.9.1"
  }
 },
 "nbformat": 4,
 "nbformat_minor": 4
}
